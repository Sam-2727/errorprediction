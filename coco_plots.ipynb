{
 "cells": [
  {
   "cell_type": "code",
   "execution_count": 81,
   "metadata": {
    "collapsed": true
   },
   "outputs": [],
   "source": [
    "import numpy as np\n",
    "import matplotlib.pyplot as plt\n",
    "import pandas as pd\n",
    "from scipy import stats\n",
    "import ipywidgets as widgets\n",
    "from time import sleep\n",
    "%matplotlib inline"
   ]
  },
  {
   "cell_type": "code",
   "execution_count": 21,
   "metadata": {
    "collapsed": true
   },
   "outputs": [],
   "source": [
    "df=pd.read_csv(\"ngc1558.csv\")"
   ]
  },
  {
   "cell_type": "code",
   "execution_count": 22,
   "metadata": {},
   "outputs": [
    {
     "data": {
      "text/html": [
       "<div>\n",
       "<style scoped>\n",
       "    .dataframe tbody tr th:only-of-type {\n",
       "        vertical-align: middle;\n",
       "    }\n",
       "\n",
       "    .dataframe tbody tr th {\n",
       "        vertical-align: top;\n",
       "    }\n",
       "\n",
       "    .dataframe thead th {\n",
       "        text-align: right;\n",
       "    }\n",
       "</style>\n",
       "<table border=\"1\" class=\"dataframe\">\n",
       "  <thead>\n",
       "    <tr style=\"text-align: right;\">\n",
       "      <th></th>\n",
       "      <th>Distance modulus</th>\n",
       "      <th>Distance modulus error</th>\n",
       "      <th>Distance (Mpc)</th>\n",
       "      <th>Distance error (Mpc)</th>\n",
       "      <th>Method</th>\n",
       "      <th>Year</th>\n",
       "      <th>Unnamed: 6</th>\n",
       "    </tr>\n",
       "  </thead>\n",
       "  <tbody>\n",
       "    <tr>\n",
       "      <th>0</th>\n",
       "      <td>34.12</td>\n",
       "      <td>0.32</td>\n",
       "      <td>67</td>\n",
       "      <td>10</td>\n",
       "      <td>Tully-Fisher</td>\n",
       "      <td>1992</td>\n",
       "      <td>NaN</td>\n",
       "    </tr>\n",
       "    <tr>\n",
       "      <th>1</th>\n",
       "      <td>34.20</td>\n",
       "      <td>0.32</td>\n",
       "      <td>69</td>\n",
       "      <td>10</td>\n",
       "      <td>Tully-Fisher</td>\n",
       "      <td>1992</td>\n",
       "      <td>NaN</td>\n",
       "    </tr>\n",
       "    <tr>\n",
       "      <th>2</th>\n",
       "      <td>33.92</td>\n",
       "      <td>0.43</td>\n",
       "      <td>61</td>\n",
       "      <td>12</td>\n",
       "      <td>Tully-Fisher</td>\n",
       "      <td>1997</td>\n",
       "      <td>NaN</td>\n",
       "    </tr>\n",
       "    <tr>\n",
       "      <th>3</th>\n",
       "      <td>34.15</td>\n",
       "      <td>0.43</td>\n",
       "      <td>68</td>\n",
       "      <td>13</td>\n",
       "      <td>Tully-Fisher</td>\n",
       "      <td>1997</td>\n",
       "      <td>NaN</td>\n",
       "    </tr>\n",
       "    <tr>\n",
       "      <th>4</th>\n",
       "      <td>34.25</td>\n",
       "      <td>0.43</td>\n",
       "      <td>71</td>\n",
       "      <td>14</td>\n",
       "      <td>Tully-Fisher</td>\n",
       "      <td>1997</td>\n",
       "      <td>NaN</td>\n",
       "    </tr>\n",
       "    <tr>\n",
       "      <th>5</th>\n",
       "      <td>33.88</td>\n",
       "      <td>0.80</td>\n",
       "      <td>60</td>\n",
       "      <td>22</td>\n",
       "      <td>IRAS</td>\n",
       "      <td>1997</td>\n",
       "      <td>NaN</td>\n",
       "    </tr>\n",
       "    <tr>\n",
       "      <th>6</th>\n",
       "      <td>33.99</td>\n",
       "      <td>0.07</td>\n",
       "      <td>63</td>\n",
       "      <td>2</td>\n",
       "      <td>Sosies</td>\n",
       "      <td>2002</td>\n",
       "      <td>NaN</td>\n",
       "    </tr>\n",
       "    <tr>\n",
       "      <th>7</th>\n",
       "      <td>33.86</td>\n",
       "      <td>0.46</td>\n",
       "      <td>59</td>\n",
       "      <td>13</td>\n",
       "      <td>Tully-Fisher</td>\n",
       "      <td>2007</td>\n",
       "      <td>NaN</td>\n",
       "    </tr>\n",
       "    <tr>\n",
       "      <th>8</th>\n",
       "      <td>33.88</td>\n",
       "      <td>0.47</td>\n",
       "      <td>60</td>\n",
       "      <td>13</td>\n",
       "      <td>Tully-Fisher</td>\n",
       "      <td>2007</td>\n",
       "      <td>NaN</td>\n",
       "    </tr>\n",
       "    <tr>\n",
       "      <th>9</th>\n",
       "      <td>33.98</td>\n",
       "      <td>0.40</td>\n",
       "      <td>63</td>\n",
       "      <td>12</td>\n",
       "      <td>Tully-Fisher</td>\n",
       "      <td>2007</td>\n",
       "      <td>NaN</td>\n",
       "    </tr>\n",
       "    <tr>\n",
       "      <th>10</th>\n",
       "      <td>33.99</td>\n",
       "      <td>0.45</td>\n",
       "      <td>63</td>\n",
       "      <td>13</td>\n",
       "      <td>Tully-Fisher</td>\n",
       "      <td>2007</td>\n",
       "      <td>NaN</td>\n",
       "    </tr>\n",
       "    <tr>\n",
       "      <th>11</th>\n",
       "      <td>29.08</td>\n",
       "      <td>0.36</td>\n",
       "      <td>7</td>\n",
       "      <td>1</td>\n",
       "      <td>Tully-Fisher</td>\n",
       "      <td>2009</td>\n",
       "      <td>NaN</td>\n",
       "    </tr>\n",
       "    <tr>\n",
       "      <th>12</th>\n",
       "      <td>33.95</td>\n",
       "      <td>0.29</td>\n",
       "      <td>62</td>\n",
       "      <td>8</td>\n",
       "      <td>Tully-Fisher</td>\n",
       "      <td>2009</td>\n",
       "      <td>NaN</td>\n",
       "    </tr>\n",
       "    <tr>\n",
       "      <th>13</th>\n",
       "      <td>34.12</td>\n",
       "      <td>0.27</td>\n",
       "      <td>67</td>\n",
       "      <td>8</td>\n",
       "      <td>Tully-Fisher</td>\n",
       "      <td>2009</td>\n",
       "      <td>NaN</td>\n",
       "    </tr>\n",
       "    <tr>\n",
       "      <th>14</th>\n",
       "      <td>34.16</td>\n",
       "      <td>0.20</td>\n",
       "      <td>68</td>\n",
       "      <td>6</td>\n",
       "      <td>Tully-Fisher</td>\n",
       "      <td>2013</td>\n",
       "      <td>NaN</td>\n",
       "    </tr>\n",
       "  </tbody>\n",
       "</table>\n",
       "</div>"
      ],
      "text/plain": [
       "    Distance modulus  Distance modulus error  Distance (Mpc)  \\\n",
       "0              34.12                    0.32              67   \n",
       "1              34.20                    0.32              69   \n",
       "2              33.92                    0.43              61   \n",
       "3              34.15                    0.43              68   \n",
       "4              34.25                    0.43              71   \n",
       "5              33.88                    0.80              60   \n",
       "6              33.99                    0.07              63   \n",
       "7              33.86                    0.46              59   \n",
       "8              33.88                    0.47              60   \n",
       "9              33.98                    0.40              63   \n",
       "10             33.99                    0.45              63   \n",
       "11             29.08                    0.36               7   \n",
       "12             33.95                    0.29              62   \n",
       "13             34.12                    0.27              67   \n",
       "14             34.16                    0.20              68   \n",
       "\n",
       "    Distance error (Mpc)        Method  Year  Unnamed: 6  \n",
       "0                     10  Tully-Fisher  1992         NaN  \n",
       "1                     10  Tully-Fisher  1992         NaN  \n",
       "2                     12  Tully-Fisher  1997         NaN  \n",
       "3                     13  Tully-Fisher  1997         NaN  \n",
       "4                     14  Tully-Fisher  1997         NaN  \n",
       "5                     22          IRAS  1997         NaN  \n",
       "6                      2        Sosies  2002         NaN  \n",
       "7                     13  Tully-Fisher  2007         NaN  \n",
       "8                     13  Tully-Fisher  2007         NaN  \n",
       "9                     12  Tully-Fisher  2007         NaN  \n",
       "10                    13  Tully-Fisher  2007         NaN  \n",
       "11                     1  Tully-Fisher  2009         NaN  \n",
       "12                     8  Tully-Fisher  2009         NaN  \n",
       "13                     8  Tully-Fisher  2009         NaN  \n",
       "14                     6  Tully-Fisher  2013         NaN  "
      ]
     },
     "execution_count": 22,
     "metadata": {},
     "output_type": "execute_result"
    }
   ],
   "source": [
    "df"
   ]
  },
  {
   "cell_type": "code",
   "execution_count": 37,
   "metadata": {},
   "outputs": [
    {
     "data": {
      "text/plain": [
       "1.9945948408313647"
      ]
     },
     "execution_count": 37,
     "metadata": {},
     "output_type": "execute_result"
    }
   ],
   "source": [
    "stats.norm.pdf(mu,i,j).max()"
   ]
  },
  {
   "cell_type": "code",
   "execution_count": 56,
   "metadata": {},
   "outputs": [
    {
     "data": {
      "text/plain": [
       "(0, 2.2)"
      ]
     },
     "execution_count": 56,
     "metadata": {},
     "output_type": "execute_result"
    },
    {
     "data": {
      "image/png": "[encoded data removed]",
      "text/plain": [
       "<matplotlib.figure.Figure at 0x1a22fa6898>"
      ]
     },
     "metadata": {},
     "output_type": "display_data"
    }
   ],
   "source": [
    "minm=28\n",
    "maxm=37\n",
    "mu=np.linspace(minm,maxm,1000)\n",
    "for i,j in zip(df['Distance modulus'],df['Distance modulus error']):\n",
    "    plt.plot(mu,stats.norm.pdf(mu,i,j))\n",
    "plt.ylim(0,2.2)"
   ]
  },
  {
   "cell_type": "code",
   "execution_count": 82,
   "metadata": {
    "collapsed": true
   },
   "outputs": [],
   "source": [
    "def myplot0(k):\n",
    "    i=df['Distance modulus'].iloc[k]\n",
    "    j=df['Distance modulus error'].iloc[k]\n",
    "    plt.plot(mu,stats.norm.pdf(mu,i,j))\n",
    "    if j > 0.1:\n",
    "        plt.text(i-1.5,stats.norm.pdf(mu,i,j).max()+0.1,r'$\\mu=$'+str(i)+r'; $\\sigma=$'+str(j))\n",
    "    if j < 0.1:\n",
    "        plt.text(i-1.8,1,r'$\\mu=$'+str(i)+r';      $\\sigma=$'+str(j))\n",
    "#    plt.axvline(np.random.normal(i,j),c='r')\n",
    "    plt.xlabel(r\"$\\mu$\")\n",
    "    plt.ylabel(r\"$P(\\mu)$\")\n",
    "    plt.ylim(0,2.2)\n",
    "    plt.xlim(minm,maxm)\n",
    "    plt.show()\n",
    "    sleep(1)"
   ]
  },
  {
   "cell_type": "code",
   "execution_count": 85,
   "metadata": {
    "collapsed": true
   },
   "outputs": [],
   "source": [
    "def myplot(k):\n",
    "    i=df['Distance modulus'].iloc[k]\n",
    "    j=df['Distance modulus error'].iloc[k]\n",
    "    plt.plot(mu,stats.norm.pdf(mu,i,j))\n",
    "    if j > 0.1:\n",
    "        plt.text(i-1.5,stats.norm.pdf(mu,i,j).max()+0.1,r'$\\mu=$'+str(i)+r'; $\\sigma=$'+str(j))\n",
    "    if j < 0.1:\n",
    "        plt.text(i-1.8,1,r'$\\mu=$'+str(i)+r';      $\\sigma=$'+str(j))\n",
    "    plt.axvline(np.random.normal(i,j),c='r')\n",
    "    plt.xlabel(r\"$\\mu$\")\n",
    "    plt.ylabel(r\"$P(\\mu)$\")\n",
    "    plt.ylim(0,2.2)\n",
    "    plt.xlim(minm,maxm)\n",
    "    plt.show()\n",
    "    sleep(1)"
   ]
  },
  {
   "cell_type": "code",
   "execution_count": 91,
   "metadata": {
    "collapsed": true,
    "scrolled": false
   },
   "outputs": [],
   "source": [
    "minm=27\n",
    "maxm=37\n",
    "mu=np.linspace(minm,maxm,1000)"
   ]
  },
  {
   "cell_type": "code",
   "execution_count": 83,
   "metadata": {},
   "outputs": [
    {
     "data": {
      "application/vnd.jupyter.widget-view+json": {
       "model_id": "2d47757d622e4e9ba9afd4039785788e",
       "version_major": 2,
       "version_minor": 0
      },
      "text/plain": [
       "interactive(children=(IntSlider(value=0, description='k', max=14), Output()), _dom_classes=('widget-interact',…"
      ]
     },
     "metadata": {},
     "output_type": "display_data"
    },
    {
     "data": {
      "text/plain": [
       "<function __main__.myplot0>"
      ]
     },
     "execution_count": 83,
     "metadata": {},
     "output_type": "execute_result"
    }
   ],
   "source": [
    "widgets.interact(myplot0,k=widgets.IntSlider(min=0, max=len(df)-1, step=1))"
   ]
  },
  {
   "cell_type": "code",
   "execution_count": 86,
   "metadata": {},
   "outputs": [
    {
     "data": {
      "application/vnd.jupyter.widget-view+json": {
       "model_id": "1fdd6c6a1bf847f796028980cdc0b11b",
       "version_major": 2,
       "version_minor": 0
      },
      "text/plain": [
       "interactive(children=(IntSlider(value=0, description='k', max=14), Output()), _dom_classes=('widget-interact',…"
      ]
     },
     "metadata": {},
     "output_type": "display_data"
    },
    {
     "data": {
      "text/plain": [
       "<function __main__.myplot>"
      ]
     },
     "execution_count": 86,
     "metadata": {},
     "output_type": "execute_result"
    }
   ],
   "source": [
    "widgets.interact(myplot,k=widgets.IntSlider(min=0, max=len(df)-1, step=1))"
   ]
  },
  {
   "cell_type": "code",
   "execution_count": 24,
   "metadata": {},
   "outputs": [
    {
     "data": {
      "text/plain": [
       "(0, 2)"
      ]
     },
     "execution_count": 24,
     "metadata": {},
     "output_type": "execute_result"
    },
    {
     "data": {
      "image/png": "[encoded data removed]",
      "text/plain": [
       "<matplotlib.figure.Figure at 0x1a22cf28d0>"
      ]
     },
     "metadata": {},
     "output_type": "display_data"
    }
   ],
   "source": [
    "minm=28\n",
    "maxm=37\n",
    "mu=np.linspace(minm,maxm,1000)\n",
    "for i,j in zip(df['Distance modulus'],df['Distance modulus error']):\n",
    "    plt.plot(mu,stats.norm.pdf(mu,i,j))\n",
    "plt.ylim(0,2)"
   ]
  },
  {
   "cell_type": "code",
   "execution_count": 124,
   "metadata": {},
   "outputs": [
    {
     "data": {
      "text/plain": [
       "(0, 2)"
      ]
     },
     "execution_count": 124,
     "metadata": {},
     "output_type": "execute_result"
    },
    {
     "data": {
      "image/png": "[encoded data removed]",
      "text/plain": [
       "<matplotlib.figure.Figure at 0x1a234e9198>"
      ]
     },
     "metadata": {},
     "output_type": "display_data"
    }
   ],
   "source": [
    "np.random.seed(0)\n",
    "draws=[]\n",
    "mu=np.linspace(minm,maxm,1000)\n",
    "for i,j in zip(df['Distance modulus'],df['Distance modulus error']):\n",
    "#    plt.plot(mu,stats.norm.pdf(mu,i,j))\n",
    "    draws+=[np.random.normal(i,j)]\n",
    "    plt.axvline(draws[-1],c='r')\n",
    "draws=np.array(draws)\n",
    "plt.yticks([])\n",
    "plt.xlabel(r\"$\\mu$\")\n",
    "plt.ylim(0,2)"
   ]
  },
  {
   "cell_type": "code",
   "execution_count": 105,
   "metadata": {},
   "outputs": [
    {
     "data": {
      "text/plain": [
       "(0, 2)"
      ]
     },
     "execution_count": 105,
     "metadata": {},
     "output_type": "execute_result"
    },
    {
     "data": {
      "image/png": "[encoded data removed]",
      "text/plain": [
       "<matplotlib.figure.Figure at 0x1a232fb978>"
      ]
     },
     "metadata": {},
     "output_type": "display_data"
    }
   ],
   "source": [
    "np.random.seed(0)\n",
    "draws=[]\n",
    "mu=np.linspace(minm,maxm,1000)\n",
    "for i,j in zip(df['Distance modulus'],df['Distance modulus error']):\n",
    "#    plt.plot(mu,stats.norm.pdf(mu,i,j))\n",
    "    draws+=[1e-6*10**(1+np.random.normal(i,j)/5)]\n",
    "    plt.axvline(draws[-1],c='r')\n",
    "draws=np.array(draws)\n",
    "plt.yticks([])\n",
    "plt.xlabel(r\"$D$ (Mpc)\")\n",
    "plt.ylim(0,2)"
   ]
  },
  {
   "cell_type": "code",
   "execution_count": 123,
   "metadata": {},
   "outputs": [
    {
     "data": {
      "text/plain": [
       "(0, 2)"
      ]
     },
     "execution_count": 123,
     "metadata": {},
     "output_type": "execute_result"
    },
    {
     "data": {
      "image/png": "[encoded data removed]",
      "text/plain": [
       "<matplotlib.figure.Figure at 0x1111fe160>"
      ]
     },
     "metadata": {},
     "output_type": "display_data"
    }
   ],
   "source": [
    "np.random.seed(0)\n",
    "draws=[]\n",
    "mu=np.linspace(minm,maxm,1000)\n",
    "for i,j in zip(df['Distance modulus'],df['Distance modulus error']):\n",
    "#    plt.plot(mu,stats.norm.pdf(mu,i,j))\n",
    "    draws+=[1e-6*10**(1+np.random.normal(i,j)/5)]\n",
    "    plt.axvline(draws[-1],c='r')\n",
    "draws=np.array(draws)\n",
    "plt.axvline(np.percentile(draws,16),c='k',lw=2)\n",
    "plt.text(np.percentile(draws,16)-3,2.1,'16%')\n",
    "plt.axvline(np.percentile(draws,50),c='k',lw=5)\n",
    "plt.text(np.percentile(draws,50)-5,2.1,'Median')\n",
    "plt.axvline(np.percentile(draws,84),c='k',lw=2)\n",
    "plt.text(np.percentile(draws,84)-3,2.1,'84%')\n",
    "plt.yticks([])\n",
    "plt.xlabel(r\"$D$ (Mpc)\")\n",
    "plt.ylim(0,2)\n"
   ]
  },
  {
   "cell_type": "code",
   "execution_count": 111,
   "metadata": {},
   "outputs": [
    {
     "data": {
      "text/plain": [
       "(-10.144854091801449, 67.697160178465481)"
      ]
     },
     "execution_count": 111,
     "metadata": {},
     "output_type": "execute_result"
    }
   ],
   "source": [
    "np.percentile(draws,16)-np.percentile(draws,50),np.percentile(draws,50)"
   ]
  },
  {
   "cell_type": "code",
   "execution_count": 110,
   "metadata": {},
   "outputs": [
    {
     "data": {
      "text/plain": [
       "-15.741863400303174"
      ]
     },
     "execution_count": 110,
     "metadata": {},
     "output_type": "execute_result"
    }
   ],
   "source": [
    "np.percentile(draws,50)-np.percentile(draws,84)"
   ]
  },
  {
   "cell_type": "code",
   "execution_count": 122,
   "metadata": {},
   "outputs": [
    {
     "data": {
      "text/plain": [
       "<matplotlib.text.Text at 0x1a237eab70>"
      ]
     },
     "execution_count": 122,
     "metadata": {},
     "output_type": "execute_result"
    },
    {
     "data": {
      "image/png": "[encoded data removed]",
      "text/plain": [
       "<matplotlib.figure.Figure at 0x1114bfc18>"
      ]
     },
     "metadata": {},
     "output_type": "display_data"
    }
   ],
   "source": [
    "plt.hist(draws)\n",
    "plt.axvline(np.percentile(draws,16),c='k',lw=2)\n",
    "plt.axvline(np.percentile(draws,50),c='k',lw=5)\n",
    "plt.axvline(np.percentile(draws,84),c='k',lw=2)\n",
    "plt.xlabel(r\"$D$ (Mpc)\")\n",
    "plt.ylabel(\"$P(D)$ from bootstrap draw\")\n",
    "#plt.ylim(0,2.5)\n",
    "plt.title(\"$D=67_{-10}^{+16}$ Mpc\")\n",
    "\n"
   ]
  },
  {
   "cell_type": "code",
   "execution_count": 26,
   "metadata": {},
   "outputs": [
    {
     "data": {
      "text/plain": [
       "[34.191762818808634,\n",
       " 33.971118680489276,\n",
       " 34.36290153085782,\n",
       " 34.59784747559712,\n",
       " 34.263748309398785,\n",
       " 34.43781277119007,\n",
       " 34.01769027489913,\n",
       " 34.117707074242205,\n",
       " 33.1536598121513,\n",
       " 33.21475560605508,\n",
       " 34.15175316124934,\n",
       " 29.098419222720914,\n",
       " 33.53891408992265,\n",
       " 33.841850352666974,\n",
       " 34.19549479181681]"
      ]
     },
     "execution_count": 26,
     "metadata": {},
     "output_type": "execute_result"
    }
   ],
   "source": [
    "draws"
   ]
  },
  {
   "cell_type": "code",
   "execution_count": null,
   "metadata": {
    "collapsed": true
   },
   "outputs": [],
   "source": []
  }
 ],
 "metadata": {
  "kernelspec": {
   "display_name": "Python 3",
   "language": "python",
   "name": "python3"
  },
  "language_info": {
   "codemirror_mode": {
    "name": "ipython",
    "version": 3
   },
   "file_extension": ".py",
   "mimetype": "text/x-python",
   "name": "python",
   "nbconvert_exporter": "python",
   "pygments_lexer": "ipython3",
   "version": "3.5.6"
  }
 },
 "nbformat": 4,
 "nbformat_minor": 2
}
